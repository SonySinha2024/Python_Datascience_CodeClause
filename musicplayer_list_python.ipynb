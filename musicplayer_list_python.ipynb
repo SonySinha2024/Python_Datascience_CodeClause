{
 "cells": [
  {
   "cell_type": "code",
   "execution_count": 1,
   "id": "8a792d34",
   "metadata": {},
   "outputs": [],
   "source": [
    "## CodeClause\n",
    "## Python Development Intern\n",
    "## Music Player in Python"
   ]
  },
  {
   "cell_type": "code",
   "execution_count": 2,
   "id": "60b9aedd",
   "metadata": {},
   "outputs": [
    {
     "name": "stdout",
     "output_type": "stream",
     "text": [
      "pygame 2.3.0 (SDL 2.24.2, Python 3.9.12)\n",
      "Hello from the pygame community. https://www.pygame.org/contribute.html\n"
     ]
    }
   ],
   "source": [
    "## package for UI\n",
    "from tkinter import *\n",
    "import tkinter as tk\n",
    "\n",
    "## For playing the music\n",
    "from pygame import mixer\n",
    "\n",
    "## Accessing File system\n",
    "import os"
   ]
  },
  {
   "cell_type": "code",
   "execution_count": 3,
   "id": "6d365dcc",
   "metadata": {},
   "outputs": [],
   "source": [
    "## Defining the functions(Play,Pause,Stop,Resume) and active selection of song and loading the song and play.\n",
    "\n",
    "def playsong():\n",
    "    currentsong = playlist.get(ACTIVE)\n",
    "    print(currentsong)\n",
    "    mixer.music.load(currentsong)\n",
    "    mixer.music.play()\n",
    "def pausesong():\n",
    "    mixer.music.pause()\n",
    "def stopsong():\n",
    "    mixer.music.stop()\n",
    "def resumesong():\n",
    "    mixer.music.unpause()\n",
    "def previous():\n",
    "    mixer.music.previous()\n",
    "def next():\n",
    "    mixer.music.next()"
   ]
  },
  {
   "cell_type": "code",
   "execution_count": 4,
   "id": "2cadbe2e",
   "metadata": {},
   "outputs": [],
   "source": [
    "## Creating root window(Name,font,colors)\n",
    "root = Tk()\n",
    "root.title('MUSIC PLAYER LIST')\n",
    "root.geometry(\"400x300\")\n",
    "root.config(bg ='purple')\n",
    "root.maxsize(400,300)\n",
    "root.minsize(400,300)\n",
    "\n",
    "my_font=('times', 10, 'bold')\n",
    "b1 = tk.Button(root, text='WELCOME TO MUSIC PLAYER', \n",
    "   width=30,bg='yellow',font=my_font,fg='red')\n",
    "b1.grid(columnspan=200) \n",
    "\n",
    "## checks all the present song in system\n",
    "mixer.init()\n",
    "\n",
    "## Store and present list of songs\n",
    "playlist = Listbox(root,selectmode=SINGLE,bg = 'pink',fg='green',width=50)\n",
    "playlist.grid(columnspan=200)\n",
    "\n",
    "## Dir of songs folder\n",
    "os.chdir(\"C:/Users/nawin/PlayList\")\n",
    "song = os.listdir()\n",
    "for s in song:\n",
    "    playlist.insert(END,s)"
   ]
  },
  {
   "cell_type": "code",
   "execution_count": 5,
   "id": "d7d45763",
   "metadata": {},
   "outputs": [],
   "source": [
    "## Framing Player Control Buttons(Play,Pause,Stop,Resume)\n",
    "Button(root,text= 'PLAY', command = playsong).grid(row =10, column = 3)\n",
    "Button(root,text= 'PAUSE', command = pausesong).grid(row =10 , column =4 )\n",
    "Button(root,text= 'STOP', command = stopsong).grid(row =10 , column = 5)\n",
    "Button(root,text= 'RESUME', command = resumesong).grid(row =10 , column = 6)"
   ]
  },
  {
   "cell_type": "code",
   "execution_count": null,
   "id": "caccf9e9",
   "metadata": {},
   "outputs": [],
   "source": [
    "## Handles all the user clicks and background threads.\n",
    "mainloop()"
   ]
  }
 ],
 "metadata": {
  "kernelspec": {
   "display_name": "Python 3 (ipykernel)",
   "language": "python",
   "name": "python3"
  },
  "language_info": {
   "codemirror_mode": {
    "name": "ipython",
    "version": 3
   },
   "file_extension": ".py",
   "mimetype": "text/x-python",
   "name": "python",
   "nbconvert_exporter": "python",
   "pygments_lexer": "ipython3",
   "version": "3.9.12"
  }
 },
 "nbformat": 4,
 "nbformat_minor": 5
}

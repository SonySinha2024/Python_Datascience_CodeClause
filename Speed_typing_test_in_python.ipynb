{
 "cells": [
  {
   "cell_type": "raw",
   "id": "d16d2689",
   "metadata": {},
   "source": [
    "## CodeClause\n",
    "## Python Development Intern\n",
    "## Task 1 :Speed Typing Test in Python"
   ]
  },
  {
   "cell_type": "code",
   "execution_count": 1,
   "id": "f8d72c22",
   "metadata": {},
   "outputs": [],
   "source": [
    "## Importing Libraries\n",
    "\n",
    "## wonder words library to import the random sentence class, which allows to generate random sentences to be displayed to the user for typing.\n",
    "from wonderwords import RandomSentence\n",
    "import random\n",
    "## track the typing speed of the user.\n",
    "import time"
   ]
  },
  {
   "cell_type": "code",
   "execution_count": 2,
   "id": "8ee68a69",
   "metadata": {},
   "outputs": [],
   "source": [
    "## Sentence list\n",
    "sent_list = []\n",
    "\n",
    "## Sentence Paragraph as a String Variable\n",
    "sent_para = \"\"\n",
    "\n",
    "\n",
    "## Randomly generated sentences are appended to a list and converted to a string paragraph\n",
    "## All paragraphs with respective sentences are stored together\n",
    "## These paragraphs are displayed for typing test\n",
    "for i in range(5):\n",
    "    sent = RandomSentence()\n",
    "    random_sent = sent.sentence()\n",
    "    sent_list.append(random_sent)\n",
    "    sent_para += random_sent +  \" \""
   ]
  },
  {
   "cell_type": "raw",
   "id": "da911049",
   "metadata": {},
   "source": [
    "we compute the length of the sentence paragraph and create a loop in this range. We will then compare each typed in the original sentence paragraph versus the typed paragraph. Each time the characters don’t add up, an error count is added. The total error percentage is computed by dividing the error count by the total length and multiplying the same by 100."
   ]
  },
  {
   "cell_type": "code",
   "execution_count": 3,
   "id": "cc54b5f1",
   "metadata": {},
   "outputs": [],
   "source": [
    "## Computing the error rate of the tester typing\n",
    "def error_rate(sent_para, typed_para):\n",
    "    error_count = 0\n",
    "\n",
    "## Computing the length of the sentence paragraph and create a loop in this range\n",
    "    length = len(sent_para)\n",
    "\n",
    "##  Comparing each typed in the original sentence paragraph versus the typed paragraph.\n",
    "## An error count is added, if the original sentence paragraph does not match the typed paragraph.\n",
    "    for character in range(length):\n",
    "        try: \n",
    "            if sent_para[character] != typed_para[character]:\n",
    "                error_count += 1\n",
    "\n",
    "        except:\n",
    "            error_count += 1\n",
    "\n",
    "## The total error percentage is computed by dividing the error count by the total length and multiplying the same by 100.\n",
    "    error_percent = error_count/length * 100\n",
    "    return error_percent"
   ]
  },
  {
   "cell_type": "code",
   "execution_count": 4,
   "id": "81e0ec30",
   "metadata": {},
   "outputs": [
    {
     "name": "stdout",
     "output_type": "stream",
     "text": [
      "The fabulous trim agrees terrapin. The bewildered raffle models molasses. The towering still shares elite. The flagrant dagger zooms goal. The elderly outline rises waterfall. \n",
      "\n",
      "\n",
      "Type the above paragraph as quickly as possible with as few mistakes to get a high Typing speed score: \n",
      "\n",
      "The fabulous trim agrees terrapin. The bewildered raffle models molasses. The towering still shares elite. The flagrant dagger zooms goal. The elderly outline rises waterfall.\n",
      "\n",
      "\n",
      "******YOUR SCORE REPORT******\n",
      "Your speed is 2.485795038673434 words/sec\n",
      "The error rate is 0.5681818181818182\n"
     ]
    }
   ],
   "source": [
    "## Printing Random Paragraph \n",
    "print(sent_para)\n",
    "print(\"\\n\")\n",
    "print(\"Type the above paragraph as quickly as possible with as few mistakes to get a high Typing speed score: \\n\")\n",
    "\n",
    "## Time Calculation\n",
    "start_time = time.time()\n",
    "typed_para = input()\n",
    "end_time = time.time()\n",
    "\n",
    "## Time taken to type the paragraph\n",
    "time_taken = end_time - start_time\n",
    "\n",
    "## Start and End Time is calculated\n",
    "error_percent = error_rate(sent_para, typed_para)\n",
    "print(\"\\n\")\n",
    "\n",
    "## if loop to measure the error percent of the typed sentence.\n",
    "\n",
    "if error_percent > 50:\n",
    "    print(f\"Your error rate {error_percent} was quite high and hence your accurate speed could not be computed.\")\n",
    "\n",
    "## Reporting the speed in words per second and the total words per second. \n",
    "else:\n",
    "    speed = len(typed_para)/time_taken\n",
    "    print(\"******YOUR SCORE REPORT******\")\n",
    "    print(f\"Your speed is {speed} words/sec\")\n",
    "    print(f\"The error rate is {error_percent}\")"
   ]
  },
  {
   "cell_type": "code",
   "execution_count": null,
   "id": "f728e05a",
   "metadata": {},
   "outputs": [],
   "source": []
  }
 ],
 "metadata": {
  "kernelspec": {
   "display_name": "Python 3 (ipykernel)",
   "language": "python",
   "name": "python3"
  },
  "language_info": {
   "codemirror_mode": {
    "name": "ipython",
    "version": 3
   },
   "file_extension": ".py",
   "mimetype": "text/x-python",
   "name": "python",
   "nbconvert_exporter": "python",
   "pygments_lexer": "ipython3",
   "version": "3.9.12"
  }
 },
 "nbformat": 4,
 "nbformat_minor": 5
}

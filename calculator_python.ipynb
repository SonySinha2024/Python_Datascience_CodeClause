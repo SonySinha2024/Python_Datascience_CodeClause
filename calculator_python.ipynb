{
 "cells": [
  {
   "cell_type": "code",
   "execution_count": 1,
   "id": "094cbca6",
   "metadata": {},
   "outputs": [],
   "source": [
    "## CodeClause\n",
    "## Python Development Intern\n",
    "## Task 2 :Calculator in Python"
   ]
  },
  {
   "cell_type": "code",
   "execution_count": 2,
   "id": "917516e5",
   "metadata": {},
   "outputs": [],
   "source": [
    "## GUI: Graphic User Interface\n",
    "## Importing the libraries;\n",
    "from tkinter import *\n",
    "import tkinter as tk"
   ]
  },
  {
   "cell_type": "code",
   "execution_count": 3,
   "id": "ac3cc589",
   "metadata": {},
   "outputs": [],
   "source": [
    "## Creating root window(Name,font,color)\n",
    "root = Tk()\n",
    "root.title('Python Calculator')\n",
    "root.geometry(\"200x300\")\n",
    "root.config(bg ='purple')\n",
    "root.maxsize(200,300)\n",
    "root.minsize(200,300)"
   ]
  },
  {
   "cell_type": "code",
   "execution_count": 4,
   "id": "40542041",
   "metadata": {},
   "outputs": [],
   "source": [
    "## Framing Input box for entry of numbers for operations\n",
    "InputBox = Entry(root, width=16, borderwidth=3, relief=RAISED)\n",
    "InputBox.grid(pady=10,row=10,sticky=\"w\",padx=15)"
   ]
  },
  {
   "cell_type": "code",
   "execution_count": 5,
   "id": "c8a6536c",
   "metadata": {},
   "outputs": [],
   "source": [
    "## Defining functions Delete, Result, Clear for operations\n",
    "\n",
    "def delete():\n",
    "        a = InputBox.get()\n",
    "        InputBox.delete(first=len(a)-1,last=\"end\")\n",
    "        \n",
    "def result():\n",
    "        if InputBox.get() == \"\":\n",
    "                pass\n",
    "        elif InputBox.get()[0] == \"0\":\n",
    "                InputBox.delete(0,\"end\")\n",
    "        else:\n",
    "                c_res = InputBox.get()\n",
    "                c_res = eval(c_res)\n",
    "                clearf()\n",
    "                InputBox.insert(\"end\",c_res)\n",
    "def clearf():\n",
    "        InputBox.delete(0,\"end\")"
   ]
  },
  {
   "cell_type": "code",
   "execution_count": 6,
   "id": "d149379b",
   "metadata": {},
   "outputs": [],
   "source": [
    "## Framing Buttons for operations\n",
    "\n",
    "## Clean Button\n",
    "my_font=('times', 10, 'bold')\n",
    "clean = Button(root,text=\"C\",width=2,command=clearf,font=my_font,bg=\"grey\",fg=\"gold\",relief=RAISED)\n",
    "clean.grid(row=10,sticky=\"w\",padx=125)\n",
    "\n",
    "## Plus Button\n",
    "Char_plus = Button(root,text=\"+\",width=2,command=lambda : InputBox.insert(\"end\",\"+\"),borderwidth=3,relief=RAISED)\n",
    "Char_plus.grid(row=11,sticky=\"e\",padx=125)\n",
    "\n",
    "## Minus Button\n",
    "Char_minus = Button(root,text=\"-\",width=2,command=lambda : InputBox.insert(\"end\",\"-\"),borderwidth=3,relief=RAISED)\n",
    "Char_minus.grid(row=12,sticky=\"e\",padx=125,pady=5)\n",
    "\n",
    "## Multiply Button\n",
    "Char_multiply = Button(root,text=\"*\",width=2,command=lambda : InputBox.insert(\"end\",\"*\"),borderwidth=3,relief=RAISED)\n",
    "Char_multiply.grid(row=13,sticky=\"e\",padx=125,pady=5)\n",
    "\n",
    "## Divide Button\n",
    "Char_divide = Button(root,text=\"/\",width=2,command=lambda : InputBox.insert(\"end\",\"/\"),borderwidth=3,relief=RAISED)\n",
    "Char_divide.grid(row=14,sticky=\"e\",padx=125,pady=5)\n",
    "\n",
    "## Character Nine\n",
    "Char_nine = Button(text=\"9\",width=2,command=lambda : InputBox.insert(\"end\",\"9\"),borderwidth=3,relief=RAISED)\n",
    "Char_nine.grid(row=11,sticky=\"w\",padx=15)\n",
    "\n",
    "## Character Eight\n",
    "Char_eight = Button(text=\"8\",width=2,command=lambda : InputBox.insert(\"end\",\"8\"),borderwidth=3,relief=RAISED)\n",
    "Char_eight.grid(row=11,sticky=\"w\",padx=45)\n",
    "\n",
    "## Character Seven\n",
    "Char_seven = Button(root,text=\"7\",width=2,command=lambda : InputBox.insert(\"end\",\"7\"),borderwidth=3,relief=RAISED)\n",
    "Char_seven.grid(row=11,sticky=\"w\",padx=75)\n",
    "\n",
    "## Character Six\n",
    "Char_six = Button(text=\"6\",width=2,command=lambda : InputBox.insert(\"end\",\"6\"),borderwidth=3,relief=RAISED)\n",
    "Char_six.grid(row=12,sticky=\"w\",padx=15,pady=5)\n",
    "\n",
    "## Character Five\n",
    "Char_five = Button(text=\"5\",width=2,command=lambda : InputBox.insert(\"end\",\"5\"),borderwidth=3,relief=RAISED)\n",
    "Char_five.grid(row=12,sticky=\"w\",padx=45,pady=5)\n",
    "\n",
    "## Character Four\n",
    "Char_four = Button(root,text=\"4\",width=2,command=lambda : InputBox.insert(\"end\",\"4\"),borderwidth=3,relief=RAISED)\n",
    "Char_four.grid(row=12,sticky=\"w\",padx=75,pady=5)\n",
    "\n",
    "## Character Three\n",
    "Char_three = Button(text=\"3\",width=2,command=lambda : InputBox.insert(\"end\",\"3\"),borderwidth=3,relief=RAISED)\n",
    "Char_three.grid(row=13,sticky=\"w\",padx=15,pady=5)\n",
    "\n",
    "## Character Two\n",
    "Char_two = Button(text=\"2\",width=2,command=lambda : InputBox.insert(\"end\",\"2\"),borderwidth=3,relief=RAISED)\n",
    "Char_two.grid(row=13,sticky=\"w\",padx=45,pady=5)\n",
    "\n",
    "## Character One\n",
    "Char_one = Button(root,text=\"1\",width=2,command=lambda : InputBox.insert(\"end\",\"1\"),borderwidth=3,relief=RAISED)\n",
    "Char_one.grid(row=13,sticky=\"w\",padx=75,pady=5)\n",
    "\n",
    "## Character Zero\n",
    "Char_zero = Button(text=\"0\",width=2,command=lambda : InputBox.insert(\"end\",\"0\"),borderwidth=3,relief=RAISED)\n",
    "Char_zero.grid(row=14,sticky=\"w\",padx=15,pady=5)\n",
    "\n",
    "## Character Double Zero\n",
    "Char_double_zero = Button(text=\"00\",width=2,command=lambda : InputBox.insert(\"end\",\"00\"),borderwidth=3,relief=RAISED)\n",
    "Char_double_zero.grid(row=14,sticky=\"w\",padx=45,pady=5)\n",
    "\n",
    "## Character dot\n",
    "Char_dot = Button(root,text=\".\",width=2,command=lambda : InputBox.insert(\"end\",\".\"),borderwidth=3,relief=RAISED)\n",
    "Char_dot.grid(row=14,sticky=\"w\",padx=75,pady=5)\n",
    "\n",
    "## Result Button\n",
    "result = Button(root,text=\"=\",width=10,command=result,bg=\"grey\",fg=\"silver\",borderwidth=3,relief=RAISED)\n",
    "result.grid(row=15,sticky=\"w\",padx=15,pady=5)\n",
    "\n",
    "## Modulus Button\n",
    "Char_modulus = Button(root,text=\"%\",width=2,command=lambda : InputBox.insert(\"end\",\"%\"),borderwidth=3,relief=RAISED)\n",
    "Char_modulus.grid(row=15,sticky=\"e\",padx=125,pady=5)\n",
    "\n",
    "## Delete Button\n",
    "delete = Button(root,text=\"del\",width=2,command=delete,borderwidth=3,relief=RAISED)\n",
    "delete.grid(row=15,sticky=\"w\",padx=80,pady=5)"
   ]
  },
  {
   "cell_type": "code",
   "execution_count": 7,
   "id": "7e32b125",
   "metadata": {},
   "outputs": [],
   "source": [
    "## Class of tkinter library  to handle all the user clicks and background threads.\n",
    "root.mainloop()"
   ]
  }
 ],
 "metadata": {
  "kernelspec": {
   "display_name": "Python 3 (ipykernel)",
   "language": "python",
   "name": "python3"
  },
  "language_info": {
   "codemirror_mode": {
    "name": "ipython",
    "version": 3
   },
   "file_extension": ".py",
   "mimetype": "text/x-python",
   "name": "python",
   "nbconvert_exporter": "python",
   "pygments_lexer": "ipython3",
   "version": "3.9.12"
  }
 },
 "nbformat": 4,
 "nbformat_minor": 5
}
